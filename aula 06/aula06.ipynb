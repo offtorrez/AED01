{
 "cells": [
  {
   "cell_type": "code",
   "execution_count": 4,
   "id": "075acc03-52a3-4ce6-a605-ddd8af191c48",
   "metadata": {},
   "outputs": [],
   "source": [
    "nome=\"brinquedo das paty\"\n",
    "idade=\"69\""
   ]
  },
  {
   "cell_type": "code",
   "execution_count": 6,
   "id": "2b138bfe-0393-4b8c-b96f-4abcd5148c3a",
   "metadata": {},
   "outputs": [
    {
     "name": "stdout",
     "output_type": "stream",
     "text": [
      "brinquedo das paty tem 69 anos em cada perna!\n"
     ]
    }
   ],
   "source": [
    "print(nome, \"tem\", idade, \"anos em cada perna!\")"
   ]
  },
  {
   "cell_type": "code",
   "execution_count": 12,
   "id": "1b1104d9-1018-48c3-a2f2-16a106f10bd5",
   "metadata": {},
   "outputs": [
    {
     "name": "stdin",
     "output_type": "stream",
     "text": [
      "soca fofo ddd 21 tropa dos de mel enviou - digite seu vulgo abaixo aqui parceiro piquerez nao cruza, faz amor da silva 1234 vulgo leao da vitrinni\n"
     ]
    }
   ],
   "source": [
    "nome=input(\"soca fofo ddd 21 tropa dos de mel enviou - digite seu vulgo abaixo aqui parceiro\")"
   ]
  },
  {
   "cell_type": "code",
   "execution_count": 14,
   "id": "74a3d98b-984c-4f11-8b33-2c805aeafc28",
   "metadata": {},
   "outputs": [
    {
     "name": "stdout",
     "output_type": "stream",
     "text": [
      "piquerez nao cruza, faz amor da silva 1234 vulgo leao da vitrinni\n"
     ]
    }
   ],
   "source": [
    "print(nome)"
   ]
  },
  {
   "cell_type": "code",
   "execution_count": 16,
   "id": "f081d385-be4e-4a72-b83b-e36f2b340929",
   "metadata": {},
   "outputs": [
    {
     "data": {
      "text/plain": [
       "str"
      ]
     },
     "execution_count": 16,
     "metadata": {},
     "output_type": "execute_result"
    }
   ],
   "source": [
    "type(nome)"
   ]
  },
  {
   "cell_type": "code",
   "execution_count": 18,
   "id": "0d152231-7587-46a6-9f69-91e72ee908a7",
   "metadata": {},
   "outputs": [
    {
     "name": "stdin",
     "output_type": "stream",
     "text": [
      "type here your body count 237 é o número do meu voo\n"
     ]
    }
   ],
   "source": [
    "idade=input(\"type here your body count\")"
   ]
  },
  {
   "cell_type": "code",
   "execution_count": 20,
   "id": "7ba373df-04f3-49f7-9dbd-0fe4f5aa9244",
   "metadata": {},
   "outputs": [
    {
     "data": {
      "text/plain": [
       "'237 é o número do meu voo'"
      ]
     },
     "execution_count": 20,
     "metadata": {},
     "output_type": "execute_result"
    }
   ],
   "source": [
    "idade"
   ]
  },
  {
   "cell_type": "code",
   "execution_count": 22,
   "id": "4648b3a6-515e-4149-b3e9-57bc96bb577a",
   "metadata": {},
   "outputs": [
    {
     "data": {
      "text/plain": [
       "str"
      ]
     },
     "execution_count": 22,
     "metadata": {},
     "output_type": "execute_result"
    }
   ],
   "source": [
    "type(idade)"
   ]
  },
  {
   "cell_type": "code",
   "execution_count": 24,
   "id": "79ccaa65-2466-4658-afab-093387583c4d",
   "metadata": {},
   "outputs": [
    {
     "ename": "ValueError",
     "evalue": "invalid literal for int() with base 10: '237 é o número do meu voo'",
     "output_type": "error",
     "traceback": [
      "\u001b[1;31m---------------------------------------------------------------------------\u001b[0m",
      "\u001b[1;31mValueError\u001b[0m                                Traceback (most recent call last)",
      "Cell \u001b[1;32mIn[24], line 1\u001b[0m\n\u001b[1;32m----> 1\u001b[0m idade \u001b[38;5;241m=\u001b[39m \u001b[38;5;28mint\u001b[39m(idade)\n",
      "\u001b[1;31mValueError\u001b[0m: invalid literal for int() with base 10: '237 é o número do meu voo'"
     ]
    }
   ],
   "source": [
    "idade = int(idade)"
   ]
  },
  {
   "cell_type": "code",
   "execution_count": 28,
   "id": "c2be709c-76ad-4e46-9a92-0db35d64e2a0",
   "metadata": {},
   "outputs": [
    {
     "name": "stdin",
     "output_type": "stream",
     "text": [
      "digite seu número da pokedex 11\n"
     ]
    }
   ],
   "source": [
    "idade=input(\"digite seu número da pokedex\")"
   ]
  },
  {
   "cell_type": "code",
   "execution_count": 30,
   "id": "d120b31e-fdca-442d-bb56-6964c23596c1",
   "metadata": {},
   "outputs": [],
   "source": [
    "idade=int(idade)"
   ]
  },
  {
   "cell_type": "code",
   "execution_count": 32,
   "id": "887d9a7f-9394-4af9-8ba7-bcf6c7d90367",
   "metadata": {},
   "outputs": [
    {
     "data": {
      "text/plain": [
       "int"
      ]
     },
     "execution_count": 32,
     "metadata": {},
     "output_type": "execute_result"
    }
   ],
   "source": [
    "type(idade)"
   ]
  },
  {
   "cell_type": "code",
   "execution_count": 38,
   "id": "830ae87f-b307-4e2c-a33a-c571e134e5f5",
   "metadata": {},
   "outputs": [
    {
     "name": "stdin",
     "output_type": "stream",
     "text": [
      "digite o tamanho da peça 34\n"
     ]
    }
   ],
   "source": [
    "idade=int(input(\"digite o tamanho da peça\"))"
   ]
  },
  {
   "cell_type": "code",
   "execution_count": 40,
   "id": "3621c249-c147-4340-ae2b-271ccf1eb022",
   "metadata": {},
   "outputs": [
    {
     "name": "stdin",
     "output_type": "stream",
     "text": [
      "digite sua idade 12\n"
     ]
    }
   ],
   "source": [
    "idade=int(input(\"digite sua idade\"))"
   ]
  },
  {
   "cell_type": "code",
   "execution_count": 42,
   "id": "1773df8c-12c5-42b0-b78c-c2ed80adcf10",
   "metadata": {},
   "outputs": [
    {
     "data": {
      "text/plain": [
       "int"
      ]
     },
     "execution_count": 42,
     "metadata": {},
     "output_type": "execute_result"
    }
   ],
   "source": [
    "type(idade)"
   ]
  },
  {
   "cell_type": "code",
   "execution_count": 44,
   "id": "7fd0bdd4-15b7-464a-8e18-3d403977ce05",
   "metadata": {},
   "outputs": [],
   "source": [
    "idade=float(idade)"
   ]
  },
  {
   "cell_type": "code",
   "execution_count": 46,
   "id": "12ea3ba4-64ae-4e3a-8fa6-08595b33bf4a",
   "metadata": {},
   "outputs": [
    {
     "data": {
      "text/plain": [
       "float"
      ]
     },
     "execution_count": 46,
     "metadata": {},
     "output_type": "execute_result"
    }
   ],
   "source": [
    "type(idade)"
   ]
  },
  {
   "cell_type": "code",
   "execution_count": 52,
   "id": "204c1add-876e-4c99-92c7-85dfb6fb215b",
   "metadata": {},
   "outputs": [],
   "source": [
    "idade=int(idade)"
   ]
  },
  {
   "cell_type": "code",
   "execution_count": 55,
   "id": "9256b5d7-5079-4afc-aa01-93fb3341c373",
   "metadata": {},
   "outputs": [
    {
     "data": {
      "text/plain": [
       "int"
      ]
     },
     "execution_count": 55,
     "metadata": {},
     "output_type": "execute_result"
    }
   ],
   "source": [
    "type(idade)"
   ]
  },
  {
   "cell_type": "code",
   "execution_count": 57,
   "id": "e18eef5f-b9cb-42e5-ac21-f864c0f04a79",
   "metadata": {},
   "outputs": [],
   "source": [
    "idade=str(idade)"
   ]
  },
  {
   "cell_type": "code",
   "execution_count": 50,
   "id": "5ae5df25-6800-415e-b7b4-aec2642520bc",
   "metadata": {},
   "outputs": [
    {
     "data": {
      "text/plain": [
       "12.0"
      ]
     },
     "execution_count": 50,
     "metadata": {},
     "output_type": "execute_result"
    }
   ],
   "source": [
    "idade"
   ]
  },
  {
   "cell_type": "code",
   "execution_count": null,
   "id": "ab65dbb9-eb09-48d6-833c-d7ac0c23b60c",
   "metadata": {},
   "outputs": [],
   "source": []
  },
  {
   "cell_type": "code",
   "execution_count": null,
   "id": "658bd529-091b-4343-a936-d69274251fc1",
   "metadata": {},
   "outputs": [],
   "source": []
  },
  {
   "cell_type": "code",
   "execution_count": null,
   "id": "783a8d69-fd59-4f75-9a40-3ade08913432",
   "metadata": {},
   "outputs": [],
   "source": []
  },
  {
   "cell_type": "code",
   "execution_count": null,
   "id": "5e4e4f03-e345-47a8-ba73-d4f12a7c342b",
   "metadata": {},
   "outputs": [],
   "source": []
  },
  {
   "cell_type": "code",
   "execution_count": null,
   "id": "896999a7-775a-4969-9d70-4b20ce012267",
   "metadata": {},
   "outputs": [],
   "source": []
  }
 ],
 "metadata": {
  "kernelspec": {
   "display_name": "Python [conda env:base] *",
   "language": "python",
   "name": "conda-base-py"
  },
  "language_info": {
   "codemirror_mode": {
    "name": "ipython",
    "version": 3
   },
   "file_extension": ".py",
   "mimetype": "text/x-python",
   "name": "python",
   "nbconvert_exporter": "python",
   "pygments_lexer": "ipython3",
   "version": "3.12.7"
  }
 },
 "nbformat": 4,
 "nbformat_minor": 5
}
