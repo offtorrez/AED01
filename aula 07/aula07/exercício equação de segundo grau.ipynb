{
 "cells": [
  {
   "cell_type": "code",
   "execution_count": 2,
   "id": "5f640b8b-a4c1-4177-b7bd-9804209d0634",
   "metadata": {},
   "outputs": [
    {
     "name": "stdin",
     "output_type": "stream",
     "text": [
      "Qual o valor de a?  13\n",
      "Qual o valor de b?  18\n",
      "Qual o valor de c?  9\n"
     ]
    },
    {
     "name": "stdout",
     "output_type": "stream",
     "text": [
      "A equação não possui raízes reais\n"
     ]
    }
   ],
   "source": [
    "from math import sqrt\n",
    "\n",
    "a = float(input(\"Qual o valor de a? \"))\n",
    "if a == 0:\n",
    "    print(\"Não é uma equação de segundo grau\")\n",
    "    exit() \n",
    "b = float(input(\"Qual o valor de b? \"))\n",
    "c = float(input(\"Qual o valor de c? \"))\n",
    "delta = (b ** 2) - (4 * a * c)\n",
    "if delta < 0:\n",
    "    print(\"A equação não possui raízes reais\")\n",
    "elif delta == 0:\n",
    "    x1 = -b / (2 * a)\n",
    "    print(\"A equação possui apenas uma raiz real:\")\n",
    "    print(\"x1 =\", x1)\n",
    "else:\n",
    "    x1 = (-b + sqrt(delta)) / (2 * a)\n",
    "    x2 = (-b - sqrt(delta)) / (2 * a)\n",
    "    print(\"A equação possui duas raízes reais:\")\n",
    "    print(\"x1 =\", x1)\n",
    "    print(\"x2 =\", x2)\n",
    "    "
   ]
  },
  {
   "cell_type": "code",
   "execution_count": null,
   "id": "0f06fb24-1770-4a7c-a6c1-4ce993858f82",
   "metadata": {},
   "outputs": [],
   "source": []
  },
  {
   "cell_type": "code",
   "execution_count": null,
   "id": "aef156ba-c55f-4c88-9eca-c4d0fc1b1753",
   "metadata": {},
   "outputs": [],
   "source": []
  },
  {
   "cell_type": "code",
   "execution_count": null,
   "id": "701ff35b-a9e4-4ac7-a462-1da614414caa",
   "metadata": {},
   "outputs": [],
   "source": []
  },
  {
   "cell_type": "code",
   "execution_count": null,
   "id": "43adabe4-39ed-4493-af85-e0c431814eb7",
   "metadata": {},
   "outputs": [],
   "source": []
  }
 ],
 "metadata": {
  "kernelspec": {
   "display_name": "Python [conda env:base] *",
   "language": "python",
   "name": "conda-base-py"
  },
  "language_info": {
   "codemirror_mode": {
    "name": "ipython",
    "version": 3
   },
   "file_extension": ".py",
   "mimetype": "text/x-python",
   "name": "python",
   "nbconvert_exporter": "python",
   "pygments_lexer": "ipython3",
   "version": "3.12.7"
  }
 },
 "nbformat": 4,
 "nbformat_minor": 5
}
