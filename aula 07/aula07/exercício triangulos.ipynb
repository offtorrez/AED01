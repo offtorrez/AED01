{
 "cells": [
  {
   "cell_type": "code",
   "execution_count": 14,
   "id": "987d39f4-2abc-4175-96ac-5615edec9190",
   "metadata": {},
   "outputs": [
    {
     "name": "stdin",
     "output_type": "stream",
     "text": [
      "Digite o lado a:  99\n",
      "Digite o lado b:  111\n",
      "Digite o lado c:  444\n"
     ]
    },
    {
     "name": "stdout",
     "output_type": "stream",
     "text": [
      "Não é um triângulo válido\n"
     ]
    }
   ],
   "source": [
    "a = float(input(\"Digite o lado a: \"))\n",
    "b = float(input(\"Digite o lado b: \"))\n",
    "c = float(input(\"Digite o lado c: \"))\n",
    "\n",
    "if (a + b > c) and (b + c > a) and (a + c > b):\n",
    "    if a == b == c:\n",
    "        print(\"É um triângulo equilátero\")\n",
    "    elif (a == b) or (b == c) or (a == c):\n",
    "        print(\"É um triângulo isósceles\")\n",
    "    else:\n",
    "        print(\"É um triângulo escaleno\")\n",
    "else:\n",
    "    print(\"Não é um triângulo válido\")\n",
    "    "
   ]
  },
  {
   "cell_type": "code",
   "execution_count": null,
   "id": "4795aac7-ad7b-441b-b7f4-4fa098c9567f",
   "metadata": {},
   "outputs": [],
   "source": []
  },
  {
   "cell_type": "code",
   "execution_count": null,
   "id": "d2b1b083-6e65-4b5d-b955-a49053814980",
   "metadata": {},
   "outputs": [],
   "source": []
  },
  {
   "cell_type": "code",
   "execution_count": null,
   "id": "cd248cc1-2c51-4eb1-a137-bbf93c3139e9",
   "metadata": {},
   "outputs": [],
   "source": []
  },
  {
   "cell_type": "code",
   "execution_count": null,
   "id": "e08bb916-0692-408b-93da-0d2adf2a3d03",
   "metadata": {},
   "outputs": [],
   "source": []
  },
  {
   "cell_type": "code",
   "execution_count": null,
   "id": "b10479a2-d8bf-448e-82ba-1b12f16494ea",
   "metadata": {},
   "outputs": [],
   "source": []
  },
  {
   "cell_type": "code",
   "execution_count": null,
   "id": "c2c5a0a5-6a74-4dcc-991b-95d19c260389",
   "metadata": {},
   "outputs": [],
   "source": []
  },
  {
   "cell_type": "code",
   "execution_count": null,
   "id": "d243e7b0-9580-4042-b51d-0dc83ea36997",
   "metadata": {},
   "outputs": [],
   "source": []
  }
 ],
 "metadata": {
  "kernelspec": {
   "display_name": "Python [conda env:base] *",
   "language": "python",
   "name": "conda-base-py"
  },
  "language_info": {
   "codemirror_mode": {
    "name": "ipython",
    "version": 3
   },
   "file_extension": ".py",
   "mimetype": "text/x-python",
   "name": "python",
   "nbconvert_exporter": "python",
   "pygments_lexer": "ipython3",
   "version": "3.12.7"
  }
 },
 "nbformat": 4,
 "nbformat_minor": 5
}
