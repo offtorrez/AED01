{
 "cells": [
  {
   "cell_type": "code",
   "execution_count": 4,
   "id": "08c05475-af1f-4b10-be4e-38884d678cab",
   "metadata": {},
   "outputs": [
    {
     "name": "stdin",
     "output_type": "stream",
     "text": [
      "Qual sua idade? 11\n"
     ]
    },
    {
     "name": "stdout",
     "output_type": "stream",
     "text": [
      "Aguarde mais um pouco, em breve você faz 18 anos!\n",
      "viva e jogue dentro sempre que possível!\n",
      "fim\n"
     ]
    }
   ],
   "source": [
    "idade = int(input(\"Qual sua idade?\") )\n",
    "if (idade >= 18):\n",
    "    print(\"Parabéns, você é de maior!\")\n",
    "else:\n",
    "    print(\"Aguarde mais um pouco, em breve você faz 18 anos!\")\n",
    "    print(\"viva e jogue dentro sempre que possível!\") \n",
    "print(\"fim\") "
   ]
  },
  {
   "cell_type": "code",
   "execution_count": 10,
   "id": "979010eb-3867-4c85-9adb-9b701a2aad1b",
   "metadata": {},
   "outputs": [
    {
     "name": "stdin",
     "output_type": "stream",
     "text": [
      "Quantos anos você tem? 22\n"
     ]
    },
    {
     "name": "stdout",
     "output_type": "stream",
     "text": [
      "bolsonaro é o caminho\n"
     ]
    }
   ],
   "source": [
    "idade = int(input(\"Quantos anos você tem?\"))\n",
    "if ( idade >= 22):\n",
    "    print(\"bolsonaro é o caminho\")\n",
    "else:\n",
    "    print(\"sexo sem parar\")"
   ]
  },
  {
   "cell_type": "code",
   "execution_count": 18,
   "id": "e15499c9-b5f4-427e-8062-590201262fa0",
   "metadata": {},
   "outputs": [
    {
     "name": "stdin",
     "output_type": "stream",
     "text": [
      "digite a nota 1 1\n",
      "digite a nota 2 2\n"
     ]
    },
    {
     "name": "stdout",
     "output_type": "stream",
     "text": [
      "a sua média foi:  1.5\n",
      "animal de teta, FOI REPROVADO KKKKKKKKKKKKKKKKKKK\n"
     ]
    }
   ],
   "source": [
    "nota1 = float(input(\"digite a nota 1\"))\n",
    "nota2 = float(input(\"digite a nota 2\"))\n",
    "media = (nota1 + nota2) / 2 \n",
    "print(\"a sua média foi: \",media)\n",
    "if media >= 6:\n",
    "    print(\"aprovado!\")\n",
    "else:\n",
    "    print(\"animal de teta, FOI REPROVADO KKKKKKKKKKKKKKKKKKK\")"
   ]
  },
  {
   "cell_type": "code",
   "execution_count": 28,
   "id": "1bef90a9-8595-4813-be60-8ae0fbc579f6",
   "metadata": {},
   "outputs": [
    {
     "name": "stdin",
     "output_type": "stream",
     "text": [
      "Qual sua fruta jovem plebeu?  maçã\n"
     ]
    },
    {
     "name": "stdout",
     "output_type": "stream",
     "text": [
      "O quilo da maçã é 18.44 reis reis\n"
     ]
    }
   ],
   "source": [
    "fruta = input(\"Qual sua fruta jovem plebeu? \")\n",
    "if (fruta == \"banana\"):\n",
    "    print(\"O quilo da Banana é 5.23 reis reis\")\n",
    "elif(fruta == \"maçã\"):\n",
    "    print(\"O quilo da maçã é 18.44 reis reis\")\n",
    "elif(fruta == \"cereja\"):\n",
    "    print(\"O quilo da cereja é 58.00 reis reis\")\n",
    "else:\n",
    "    print(\"essa fruta ai tem que estar vendo pq o fornecedor do ceagesp é meio pateta, então nao temos\",fruta)\n"
   ]
  },
  {
   "cell_type": "code",
   "execution_count": null,
   "id": "3781824d-49cc-421f-9ea1-5d0d629d15da",
   "metadata": {},
   "outputs": [],
   "source": [
    "n = int(input(\"entre com um número\"))\n",
    "if (n >=0):\n",
    "    if(m % 2) == 0:\n",
    "        print(n, \"é par positivo!\")\n",
    "    else:\n",
    "        print(n,\"é impar positivo!\")\n",
    "else:\n",
    "    if(abs(n)%2)==0:\n",
    "        print(n, \"É par negativo\")\n",
    "    else:\n",
    "        print(n, \"é impar negativo!\")"
   ]
  },
  {
   "cell_type": "code",
   "execution_count": null,
   "id": "44cd6f54-0988-4cb2-9977-1cbca3d20231",
   "metadata": {},
   "outputs": [],
   "source": []
  },
  {
   "cell_type": "code",
   "execution_count": null,
   "id": "0e5bd34f-235a-4cac-9933-53c7f7b34233",
   "metadata": {},
   "outputs": [],
   "source": []
  },
  {
   "cell_type": "code",
   "execution_count": null,
   "id": "ddfc02bb-400b-4c23-9518-6420d46e44aa",
   "metadata": {},
   "outputs": [],
   "source": []
  },
  {
   "cell_type": "code",
   "execution_count": null,
   "id": "5524e389-9d2b-4cdd-907f-05673d7de8a5",
   "metadata": {},
   "outputs": [],
   "source": []
  },
  {
   "cell_type": "code",
   "execution_count": null,
   "id": "89e07299-d0be-4103-89ef-30433e851b3e",
   "metadata": {},
   "outputs": [],
   "source": []
  },
  {
   "cell_type": "code",
   "execution_count": null,
   "id": "6f07155b-651d-4f69-8f9c-8844c67ff30b",
   "metadata": {},
   "outputs": [],
   "source": []
  },
  {
   "cell_type": "code",
   "execution_count": null,
   "id": "b76f9958-9d2e-42c5-ac37-a1a26be73729",
   "metadata": {},
   "outputs": [],
   "source": []
  },
  {
   "cell_type": "code",
   "execution_count": null,
   "id": "899960e1-42f4-49a0-922c-061035b557d2",
   "metadata": {},
   "outputs": [],
   "source": []
  },
  {
   "cell_type": "code",
   "execution_count": null,
   "id": "53344950-4332-4371-8653-69147997cf4c",
   "metadata": {},
   "outputs": [],
   "source": []
  },
  {
   "cell_type": "code",
   "execution_count": null,
   "id": "ebd28863-c4ca-4e52-8426-b2d36e821c2f",
   "metadata": {},
   "outputs": [],
   "source": []
  },
  {
   "cell_type": "code",
   "execution_count": null,
   "id": "7f70c474-32d7-4172-ab8c-deca435d9d50",
   "metadata": {},
   "outputs": [],
   "source": []
  },
  {
   "cell_type": "code",
   "execution_count": null,
   "id": "933fd860-d60d-493c-9aac-5542dcbf4dd8",
   "metadata": {},
   "outputs": [],
   "source": []
  },
  {
   "cell_type": "code",
   "execution_count": null,
   "id": "6226443e-ac32-4a9d-a1c7-1fd3aec034a1",
   "metadata": {},
   "outputs": [],
   "source": []
  },
  {
   "cell_type": "code",
   "execution_count": null,
   "id": "583405b4-3a10-48dc-a806-5ad9e613191d",
   "metadata": {},
   "outputs": [],
   "source": []
  }
 ],
 "metadata": {
  "kernelspec": {
   "display_name": "Python [conda env:base] *",
   "language": "python",
   "name": "conda-base-py"
  },
  "language_info": {
   "codemirror_mode": {
    "name": "ipython",
    "version": 3
   },
   "file_extension": ".py",
   "mimetype": "text/x-python",
   "name": "python",
   "nbconvert_exporter": "python",
   "pygments_lexer": "ipython3",
   "version": "3.12.7"
  }
 },
 "nbformat": 4,
 "nbformat_minor": 5
}
