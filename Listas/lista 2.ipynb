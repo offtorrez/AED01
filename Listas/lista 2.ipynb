{
 "cells": [
  {
   "cell_type": "markdown",
   "id": "541bc8b3-8033-4ee0-82a9-05423270f0b3",
   "metadata": {},
   "source": [
    "1. Faça um programa que peça uma nota, entre zero e dez. Mostre uma mensagem caso o valor seja inválido e continue \n",
    "pedindo até que o usuário informe um valor válido. "
   ]
  },
  {
   "cell_type": "code",
   "execution_count": 6,
   "id": "abb21ade-aab5-4e64-bf87-15d349c32c80",
   "metadata": {},
   "outputs": [
    {
     "name": "stdin",
     "output_type": "stream",
     "text": [
      "Digite uma nota entre 0 e 10:  10\n"
     ]
    },
    {
     "name": "stdout",
     "output_type": "stream",
     "text": [
      "Nota válida: 10.0\n"
     ]
    }
   ],
   "source": [
    "nota = float(input(\"Digite uma nota entre 0 e 10: \"))\n",
    "\n",
    "while nota < 0 or nota > 10:\n",
    "    print(\"Nota inválida! Tente novamente.\")\n",
    "    nota = float(input(\"Digite uma nota entre 0 e 10: \"))\n",
    "\n",
    "print(f\"Nota válida: {nota}\") \n",
    "\n"
   ]
  },
  {
   "cell_type": "markdown",
   "id": "7ade0791-331a-4a8e-8299-5472641b5df4",
   "metadata": {},
   "source": [
    "2. Faça um programa que leia um nome de usuário e a sua senha e não aceite a senha igual ao nome do usuário, mostrando \n",
    "uma mensagem de erro e voltando a pedir as informações"
   ]
  },
  {
   "cell_type": "code",
   "execution_count": 9,
   "id": "cf0b82dc-3ece-40a4-97ff-d914c356c03a",
   "metadata": {},
   "outputs": [
    {
     "name": "stdin",
     "output_type": "stream",
     "text": [
      "Digite o nome de usuário:  offtorrez\n",
      "Digite a senha:  offtorrez\n"
     ]
    },
    {
     "name": "stdout",
     "output_type": "stream",
     "text": [
      "Erro: a senha não pode ser igual ao nome de usuário. Tente novamente.\n"
     ]
    },
    {
     "name": "stdin",
     "output_type": "stream",
     "text": [
      "Digite o nome de usuário:  bananasdepijamas\n",
      "Digite a senha:  helloworld\n"
     ]
    },
    {
     "name": "stdout",
     "output_type": "stream",
     "text": [
      "Cadastro realizado com sucesso!\n"
     ]
    }
   ],
   "source": [
    "usuario = input(\"Digite o nome de usuário: \")\n",
    "senha = input(\"Digite a senha: \")\n",
    "\n",
    "while senha == usuario:\n",
    "    print(\"Erro: a senha não pode ser igual ao nome de usuário. Tente novamente.\")\n",
    "    usuario = input(\"Digite o nome de usuário: \")\n",
    "    senha = input(\"Digite a senha: \")\n",
    "\n",
    "print(\"Cadastro realizado com sucesso!\")\n"
   ]
  },
  {
   "cell_type": "markdown",
   "id": "b291405d-0de8-46a5-b186-2684eb1ab668",
   "metadata": {},
   "source": [
    "3. Faça um programa que leia e valide as seguintes informações: \n",
    "a. Nome: maior que 3 caracteres; \n",
    "b. Idade: entre 0 e 150; \n",
    "c. \n",
    "Salário: maior que zero; \n",
    "d. Sexo: 'f' ou 'm'; \n",
    "e. Estado Civil: 's', 'c', 'v', 'd'; \n"
   ]
  },
  {
   "cell_type": "code",
   "execution_count": 14,
   "id": "86082975-b8d0-436f-82cd-d84cd577c65f",
   "metadata": {},
   "outputs": [
    {
     "name": "stdin",
     "output_type": "stream",
     "text": [
      "Digite seu nome:  lucas da galera\n",
      "Digite sua idade:  19\n",
      "Digite seu salário:  1000000\n",
      "Digite seu sexo (f ou m):  m\n",
      "Digite seu estado civil (s - solteiro, c - casado, v - viúvo, d - divorciado):  c\n"
     ]
    },
    {
     "name": "stdout",
     "output_type": "stream",
     "text": [
      " --- Dados validados ---\n",
      "Nome: lucas da galera\n",
      "Idade: 19\n",
      "Salário: R$ 1000000.00\n",
      "Sexo: m\n",
      "Estado civil: c\n"
     ]
    }
   ],
   "source": [
    "nome = input(\"Digite seu nome: \")\n",
    "while len(nome) <= 3:\n",
    "    print(\"Erro: o nome deve ter mais de 3 caracteres.\")\n",
    "    nome = input(\"Digite seu nome: \")\n",
    "\n",
    "idade = int(input(\"Digite sua idade: \"))\n",
    "while idade < 0 or idade > 150:\n",
    "    print(\"Erro: idade deve estar entre 0 e 150.\")\n",
    "    idade = int(input(\"Digite sua idade: \"))\n",
    "\n",
    "salario = float(input(\"Digite seu salário: \"))\n",
    "while salario <= 0:\n",
    "    print(\"Erro: o salário deve ser maior que zero.\")\n",
    "    salario = float(input(\"Digite seu salário: \"))\n",
    "\n",
    "sexo = input(\"Digite seu sexo (f ou m): \").lower()\n",
    "while sexo != 'f' and sexo != 'm':\n",
    "    print(\"Erro: sexo deve ser 'f' ou 'm'.\")\n",
    "    sexo = input(\"Digite seu sexo (f ou m): \").lower()\n",
    "\n",
    "estado_civil = input(\"Digite seu estado civil (s - solteiro, c - casado, v - viúvo, d - divorciado): \").lower()\n",
    "while estado_civil not in ['s', 'c', 'v', 'd']:\n",
    "    print(\"Erro: estado civil deve ser 's', 'c', 'v' ou 'd'.\")\n",
    "    estado_civil = input(\"Digite seu estado civil (s, c, v, d): \").lower()\n",
    "\n",
    "print(\" --- Dados validados ---\")\n",
    "print(f\"Nome: {nome}\")\n",
    "print(f\"Idade: {idade}\")\n",
    "print(f\"Salário: R$ {salario:.2f}\")\n",
    "print(f\"Sexo: {sexo}\")\n",
    "print(f\"Estado civil: {estado_civil}\")\n"
   ]
  },
  {
   "cell_type": "markdown",
   "id": "d6c00033-82ad-4ff2-a94e-f4ad3efa712a",
   "metadata": {},
   "source": [
    "4. Supondo que a população de um país A seja da ordem de 80000 habitantes com uma taxa anual de crescimento de 3% e \n",
    "que a população de B seja 200000 habitantes com uma taxa de crescimento de 1.5%. Faça um programa que calcule e \n",
    "escreva o número de anos necessários para que a população do país A ultrapasse ou iguale a população do país B, \n",
    "mantidas as taxas de crescimento. "
   ]
  },
  {
   "cell_type": "code",
   "execution_count": 17,
   "id": "beb16e42-710c-4c7f-8c63-5987eb19dad6",
   "metadata": {},
   "outputs": [
    {
     "name": "stdout",
     "output_type": "stream",
     "text": [
      "Serão necessários 63 anos para que a população do país A ultrapasse ou iguale a de B.\n",
      "População de A: 515033\n",
      "População de B: 510964\n"
     ]
    }
   ],
   "source": [
    "populacao_a = 80000\n",
    "populacao_b = 200000\n",
    "anos = 0\n",
    "\n",
    "while populacao_a <= populacao_b:\n",
    "    populacao_a += populacao_a * 0.03  \n",
    "    populacao_b += populacao_b * 0.015  \n",
    "    anos += 1\n",
    "\n",
    "print(f\"Serão necessários {anos} anos para que a população do país A ultrapasse ou iguale a de B.\")\n",
    "print(f\"População de A: {int(populacao_a)}\")\n",
    "print(f\"População de B: {int(populacao_b)}\")\n"
   ]
  },
  {
   "cell_type": "markdown",
   "id": "3afa4ae6-970f-485b-9eba-537c5d2a62ff",
   "metadata": {},
   "source": [
    "5. Faça um programa que leia 5 números e informe a soma e a média dos números."
   ]
  },
  {
   "cell_type": "code",
   "execution_count": 24,
   "id": "e83ac8c2-9351-4f70-96ab-fb701477d891",
   "metadata": {},
   "outputs": [
    {
     "name": "stdin",
     "output_type": "stream",
     "text": [
      "Digite o primeiro número:  30\n",
      "Digite o segundo número:  40\n",
      "Digite o terceiro número:  50\n",
      "Digite o quarto número:  60\n",
      "Digite o quinto número:  80\n"
     ]
    },
    {
     "name": "stdout",
     "output_type": "stream",
     "text": [
      "A soma dos números é 260.0 e a média dos números é 196.0\n"
     ]
    }
   ],
   "source": [
    "num1 = float(input(\"Digite o primeiro número: \"))\n",
    "num2 = float(input(\"Digite o segundo número: \"))\n",
    "num3 = float(input(\"Digite o terceiro número: \"))\n",
    "num4 = float(input(\"Digite o quarto número: \"))\n",
    "num5 = float(input(\"Digite o quinto número: \"))\n",
    "\n",
    "numsoma = num1 + num2 + num3 + num4 + num5 \n",
    "\n",
    "nummedia = num1 + num2 + num3 + num4 + num5 / 5\n",
    "\n",
    "print(f\"A soma dos números é {numsoma} e a média dos números é {nummedia}\")\n"
   ]
  },
  {
   "cell_type": "markdown",
   "id": "b273fad9-d860-42c7-b9c5-9bcf470af735",
   "metadata": {},
   "source": [
    "6. Desenvolva um gerador de tabuada, capaz de gerar a tabuada de qualquer número inteiro entre 1 a 10. O usuário deve \n",
    "informar de qual numero ele deseja ver a tabuada. A saída deve ser conforme o exemplo abaixo: \n",
    "a. Tabuada de 5: \n",
    "b. 5 X 1 = 5 \n",
    "c. 5 X 2 = 10 \n",
    "d. ... \n",
    "e. 5 X 10 = 50"
   ]
  },
  {
   "cell_type": "code",
   "execution_count": 33,
   "id": "6572ca37-5f5a-4900-8ab9-8a8986f69344",
   "metadata": {},
   "outputs": [
    {
     "name": "stdin",
     "output_type": "stream",
     "text": [
      "Qual tabuada você deseja ver? 5\n"
     ]
    },
    {
     "name": "stdout",
     "output_type": "stream",
     "text": [
      "----- Tabuada do 5 -----\n",
      "5 x 1 = 5\n",
      "5 x 2 = 10\n",
      "5 x 3 = 15\n",
      "5 x 4 = 20\n",
      "5 x 5 = 25\n",
      "5 x 6 = 30\n",
      "5 x 7 = 35\n",
      "5 x 8 = 40\n",
      "5 x 9 = 45\n",
      "5 x 10 = 50\n"
     ]
    }
   ],
   "source": [
    "num = int(input(\"Qual tabuada você deseja ver?\"))\n",
    "\n",
    "if num < 1 or num > 10:\n",
    "    print(\"Escolha um número de 1 a 10!\")\n",
    "else:\n",
    "    print(f\"----- Tabuada do {num} -----\")\n",
    "    numx1 = num * 1\n",
    "    print(f\"{num} x 1 = {numx1}\")\n",
    "    numx2 = num * 2\n",
    "    print(f\"{num} x 2 = {numx2}\")\n",
    "    numx3 = num * 3\n",
    "    print(f\"{num} x 3 = {numx3}\")\n",
    "    numx4 = num * 4\n",
    "    print(f\"{num} x 4 = {numx4}\")\n",
    "    numx5 = num * 5\n",
    "    print(f\"{num} x 5 = {numx5}\")\n",
    "    numx6 = num * 6\n",
    "    print(f\"{num} x 6 = {numx6}\")\n",
    "    numx7 = num * 7\n",
    "    print(f\"{num} x 7 = {numx7}\")\n",
    "    numx8 = num * 8\n",
    "    print(f\"{num} x 8 = {numx8}\")\n",
    "    numx9 = num * 9\n",
    "    print(f\"{num} x 9 = {numx9}\")\n",
    "    numx10 = num * 10\n",
    "    print(f\"{num} x 10 = {numx10}\")\n",
    "\n",
    "\n",
    "    "
   ]
  },
  {
   "cell_type": "markdown",
   "id": "a8e8900f-8c30-4b72-a8f7-ef3dee8a2ceb",
   "metadata": {},
   "source": [
    "7. A série de Fibonacci é formada pela seqüência 1,1,2,3,5,8,13,21,34,55,... Faça um programa capaz de gerar a série até o \n",
    "n−ésimo termo. "
   ]
  },
  {
   "cell_type": "code",
   "execution_count": 38,
   "id": "3e94a445-8a68-4f22-9090-4ce96dbf1b67",
   "metadata": {},
   "outputs": [
    {
     "name": "stdout",
     "output_type": "stream",
     "text": [
      "Série de Fibonacci até o 90º termo:\n",
      "1\n",
      "1\n",
      "2\n",
      "3\n",
      "5\n",
      "8\n",
      "13\n",
      "21\n",
      "34\n",
      "55\n",
      "89\n",
      "144\n",
      "233\n",
      "377\n",
      "610\n",
      "987\n",
      "1597\n",
      "2584\n",
      "4181\n",
      "6765\n",
      "10946\n",
      "17711\n",
      "28657\n",
      "46368\n",
      "75025\n",
      "121393\n",
      "196418\n",
      "317811\n",
      "514229\n",
      "832040\n",
      "1346269\n",
      "2178309\n",
      "3524578\n",
      "5702887\n",
      "9227465\n",
      "14930352\n",
      "24157817\n",
      "39088169\n",
      "63245986\n",
      "102334155\n",
      "165580141\n",
      "267914296\n",
      "433494437\n",
      "701408733\n",
      "1134903170\n",
      "1836311903\n",
      "2971215073\n",
      "4807526976\n",
      "7778742049\n",
      "12586269025\n",
      "20365011074\n",
      "32951280099\n",
      "53316291173\n",
      "86267571272\n",
      "139583862445\n",
      "225851433717\n",
      "365435296162\n",
      "591286729879\n",
      "956722026041\n",
      "1548008755920\n",
      "2504730781961\n",
      "4052739537881\n",
      "6557470319842\n",
      "10610209857723\n",
      "17167680177565\n",
      "27777890035288\n",
      "44945570212853\n",
      "72723460248141\n",
      "117669030460994\n",
      "190392490709135\n",
      "308061521170129\n",
      "498454011879264\n",
      "806515533049393\n",
      "1304969544928657\n",
      "2111485077978050\n",
      "3416454622906707\n",
      "5527939700884757\n",
      "8944394323791464\n",
      "14472334024676221\n",
      "23416728348467685\n",
      "37889062373143906\n",
      "61305790721611591\n",
      "99194853094755497\n",
      "160500643816367088\n",
      "259695496911122585\n",
      "420196140727489673\n",
      "679891637638612258\n",
      "1100087778366101931\n",
      "1779979416004714189\n",
      "2880067194370816120\n"
     ]
    }
   ],
   "source": [
    "a = 1\n",
    "b = 1\n",
    "print(\"Série de Fibonacci até o 90º termo:\")\n",
    "print(a)\n",
    "print(b)\n",
    "for i in range(3, 91):\n",
    "    c = a + b\n",
    "    print(c)\n",
    "    a = b\n",
    "    b = c\n",
    "\n"
   ]
  },
  {
   "cell_type": "markdown",
   "id": "7e7096bd-3afd-421b-a663-a77906112128",
   "metadata": {},
   "source": [
    "8. Faça um programa que calcule o mostre a média aritmética de N notas. "
   ]
  },
  {
   "cell_type": "code",
   "execution_count": 40,
   "id": "b53c328c-98e1-44f8-8a67-9d21cd8f3455",
   "metadata": {},
   "outputs": [
    {
     "name": "stdin",
     "output_type": "stream",
     "text": [
      "Quantas notas você quer inserir?  11\n",
      "Digite a nota 1:  10\n",
      "Digite a nota 2:  6\n",
      "Digite a nota 3:  5\n",
      "Digite a nota 4:  8\n",
      "Digite a nota 5:  4\n",
      "Digite a nota 6:  9\n",
      "Digite a nota 7:  6\n",
      "Digite a nota 8:  3\n",
      "Digite a nota 9:  8\n",
      "Digite a nota 10:  10\n",
      "Digite a nota 11:  8\n"
     ]
    },
    {
     "name": "stdout",
     "output_type": "stream",
     "text": [
      "A média das 11 notas é: 7.00\n"
     ]
    }
   ],
   "source": [
    "quantidade = int(input(\"Quantas notas você quer inserir? \"))\n",
    "soma = 0\n",
    "for i in range(quantidade):\n",
    "    nota = float(input(f\"Digite a nota {i + 1}: \"))\n",
    "    soma += nota\n",
    "media = soma / quantidade\n",
    "print(f\"A média das {quantidade} notas é: {media:.2f}\")\n"
   ]
  },
  {
   "cell_type": "markdown",
   "id": "c820aef8-07b6-4bc4-ab55-2beae5f8b9e6",
   "metadata": {},
   "source": [
    "9. O Sr. Manoel Joaquim possui uma grande loja de artigos de R$ 1,99, com cerca de 10 caixas. Para agilizar o cálculo de \n",
    "quanto cada cliente deve pagar ele desenvolveu um tabela que contém o número de itens que o cliente comprou e ao lado \n",
    "o valor da conta. Desta forma a atendente do caixa precisa apenas contar quantos itens o cliente está levando e olhar na \n",
    "tabela de preços. Você foi contratado para desenvolver o programa que monta esta tabela de preços, que conterá os preços \n",
    "de 1 até 50 produtos, conforme o exemplo abaixo: \n",
    "a. Lojas Quase Dois - Tabela de preços \n",
    "b. 1 - R$ 1.99 \n",
    "c. 2 - R$ 3.98 \n",
    "d. ... \n",
    "e. 50 - R$ 99.50 "
   ]
  },
  {
   "cell_type": "code",
   "execution_count": 45,
   "id": "07528ee8-d64f-47ef-ac21-1d9f8322fc5f",
   "metadata": {},
   "outputs": [
    {
     "name": "stdin",
     "output_type": "stream",
     "text": [
      "Quantos itens o cliente está levando?  6\n"
     ]
    },
    {
     "name": "stdout",
     "output_type": "stream",
     "text": [
      "Total a pagar por 6 itens: R$ 11.94\n"
     ]
    }
   ],
   "source": [
    "precouni = 1.99\n",
    "\n",
    "quantidade = int(input(\"Quantos itens o cliente está levando? \"))\n",
    "\n",
    "if 1 <= quantidade <= 50:\n",
    "    total = quantidade * precouni\n",
    "    print(f\"Total a pagar por {quantidade} itens: R$ {total:.2f}\")\n",
    "else:\n",
    "    print(\"Por favor, insira uma quantidade entre 1 e 50.\")\n"
   ]
  },
  {
   "cell_type": "markdown",
   "id": "91f8a927-fc77-4fbb-983b-e79dcf00b7e6",
   "metadata": {},
   "source": [
    "10. O Departamento Estadual de Meteorologia lhe contratou para desenvolver um programa que leia as um conjunto indeterminado de \n",
    "temperaturas, e informe ao final a menor e a maior temperaturas informadas, bem como a média das temperaturas. "
   ]
  },
  {
   "cell_type": "code",
   "execution_count": 48,
   "id": "c3a60b3c-4495-4ad9-8962-7c1204002b5c",
   "metadata": {},
   "outputs": [
    {
     "name": "stdout",
     "output_type": "stream",
     "text": [
      "Digite as temperaturas (digite -1000 para encerrar):\n"
     ]
    },
    {
     "name": "stdin",
     "output_type": "stream",
     "text": [
      "Temperatura:  8\n",
      "Temperatura:  21\n",
      "Temperatura:  33\n",
      "Temperatura:  18\n",
      "Temperatura:  -1000\n"
     ]
    },
    {
     "name": "stdout",
     "output_type": "stream",
     "text": [
      "Menor temperatura: 8.0\n",
      "Maior temperatura: 33.0\n",
      "Média das temperaturas: 20.00\n"
     ]
    }
   ],
   "source": [
    "soma = 0\n",
    "quantidade = 0\n",
    "maior = None\n",
    "menor = None\n",
    "print(\"Digite as temperaturas (digite -1000 para encerrar):\")\n",
    "temperatura = float(input(\"Temperatura: \"))\n",
    "while temperatura != -1000:\n",
    "    soma += temperatura\n",
    "    quantidade += 1\n",
    "    if maior is None or temperatura > maior:\n",
    "        maior = temperatura\n",
    "    if menor is None or temperatura < menor:\n",
    "        menor = temperatura\n",
    "    temperatura = float(input(\"Temperatura: \"))\n",
    "if quantidade > 0:\n",
    "    media = soma / quantidade\n",
    "    print(f\"Menor temperatura: {menor}\")\n",
    "    print(f\"Maior temperatura: {maior}\")\n",
    "    print(f\"Média das temperaturas: {media:.2f}\")\n",
    "else:\n",
    "    print(\"Nenhuma temperatura foi informada.\")\n"
   ]
  },
  {
   "cell_type": "code",
   "execution_count": null,
   "id": "f13877c2-8b47-4052-8cf6-a6016419476c",
   "metadata": {},
   "outputs": [],
   "source": []
  },
  {
   "cell_type": "code",
   "execution_count": null,
   "id": "66ce8b1d-5fa4-478c-aec8-5fdbd6491025",
   "metadata": {},
   "outputs": [],
   "source": []
  },
  {
   "cell_type": "code",
   "execution_count": null,
   "id": "b1fd3173-1e13-4cf7-8935-0ae443416081",
   "metadata": {},
   "outputs": [],
   "source": []
  },
  {
   "cell_type": "code",
   "execution_count": null,
   "id": "5055427f-0eba-4181-9b3f-d34f85a67849",
   "metadata": {},
   "outputs": [],
   "source": []
  }
 ],
 "metadata": {
  "kernelspec": {
   "display_name": "Python [conda env:base] *",
   "language": "python",
   "name": "conda-base-py"
  },
  "language_info": {
   "codemirror_mode": {
    "name": "ipython",
    "version": 3
   },
   "file_extension": ".py",
   "mimetype": "text/x-python",
   "name": "python",
   "nbconvert_exporter": "python",
   "pygments_lexer": "ipython3",
   "version": "3.12.7"
  }
 },
 "nbformat": 4,
 "nbformat_minor": 5
}
