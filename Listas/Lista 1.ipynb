{
 "cells": [
  {
   "cell_type": "markdown",
   "id": "1c2c6aef-c33d-4707-b30d-ec6ff70de8f4",
   "metadata": {},
   "source": [
    "0. Faça um algoritmo para ler um número e mostrar se ele é par ou impar, positivo ou negativo.\n"
   ]
  },
  {
   "cell_type": "code",
   "execution_count": 1,
   "id": "fa566c96-6d2d-4b46-9f31-492bfc53d64b",
   "metadata": {},
   "outputs": [
    {
     "name": "stdin",
     "output_type": "stream",
     "text": [
      "Digite um número:  5\n"
     ]
    },
    {
     "name": "stdout",
     "output_type": "stream",
     "text": [
      "O número é ímpar.\n",
      "O número é positivo.\n"
     ]
    }
   ],
   "source": [
    "\n",
    "numero = int(input(\"Digite um número: \"))\n",
    "if numero % 2 == 0:\n",
    "    print(\"O número é par.\")\n",
    "else:\n",
    "    print(\"O número é ímpar.\")\n",
    "if numero > 0:\n",
    "    print(\"O número é positivo.\")\n",
    "elif numero < 0:\n",
    "    print(\"O número é negativo.\")\n",
    "else:\n",
    "    print(\"O número é zero.\")\n"
   ]
  },
  {
   "cell_type": "markdown",
   "id": "3f1c7514-da99-451e-8d0d-f38a674cbdbb",
   "metadata": {},
   "source": [
    "1. Faça um Programa que peça dois números e imprima o maior deles"
   ]
  },
  {
   "cell_type": "code",
   "execution_count": 3,
   "id": "1c8815dc-9cbb-4686-ac84-387ddae6d422",
   "metadata": {},
   "outputs": [
    {
     "name": "stdin",
     "output_type": "stream",
     "text": [
      "Digite o primeiro número:  5\n",
      "Digite o segundo número:  5\n"
     ]
    },
    {
     "name": "stdout",
     "output_type": "stream",
     "text": [
      "Os dois números são iguais.\n"
     ]
    }
   ],
   "source": [
    "\n",
    "num1 = int(input(\"Digite o primeiro número: \"))\n",
    "num2 = int(input(\"Digite o segundo número: \"))\n",
    "if num1 > num2:\n",
    "    print(\"O maior número é:\", num1)\n",
    "elif num2 > num1:\n",
    "    print(\"O maior número é:\", num2)\n",
    "else:\n",
    "    print(\"Os dois números são iguais.\")\n"
   ]
  },
  {
   "cell_type": "markdown",
   "id": "85fc1803-baa1-46e0-883b-402ebc132675",
   "metadata": {},
   "source": [
    "2. Faça um Programa que peça um valor e mostre na tela se o valor é positivo ou negativo"
   ]
  },
  {
   "cell_type": "code",
   "execution_count": 7,
   "id": "523de7c5-1c84-4885-b4e0-51898a569af6",
   "metadata": {},
   "outputs": [
    {
     "name": "stdin",
     "output_type": "stream",
     "text": [
      "Digite um número -2\n"
     ]
    },
    {
     "name": "stdout",
     "output_type": "stream",
     "text": [
      "o seu número é negativo\n"
     ]
    }
   ],
   "source": [
    "numero = int(input(\"Digite um número\"))\n",
    "if numero > 0:\n",
    "    print(\"o seu número é postivo!\")\n",
    "elif numero < 0:\n",
    "    print(\"o seu número é negativo!\")"
   ]
  },
  {
   "cell_type": "markdown",
   "id": "581ef7fc-78df-4f62-91a0-ec6c84b869f2",
   "metadata": {},
   "source": [
    "3. Faça um Programa que verifique se uma letra digitada é vogal ou consoante."
   ]
  },
  {
   "cell_type": "code",
   "execution_count": 12,
   "id": "fa5ea546-9a68-4225-b8b2-d2d0ff1c6414",
   "metadata": {},
   "outputs": [
    {
     "name": "stdin",
     "output_type": "stream",
     "text": [
      "Escolha uma letra:  e\n"
     ]
    },
    {
     "name": "stdout",
     "output_type": "stream",
     "text": [
      "A letra escolhida é uma vogal\n"
     ]
    }
   ],
   "source": [
    "letra = input(\"Escolha uma letra: \").upper()\n",
    "if letra in \"AEIOU\":\n",
    "    print(\"A letra escolhida é uma vogal\")\n",
    "else:\n",
    "    print(\"A sua letra é consoante\")\n"
   ]
  },
  {
   "cell_type": "markdown",
   "id": "535745c6-9c4a-431a-b24b-e5b116269101",
   "metadata": {},
   "source": [
    "4. Faça um programa para a leitura de duas notas parciais de um aluno. O programa deve calcular a média alcançada por\n",
    "aluno e apresentar:\n",
    "a. A mensagem \"Aprovado\", se a média alcançada for maior ou igual a sete;\n",
    "b. A mensagem \"Reprovado\", se a média for menor do que sete;\n",
    "c. A mensagem \"Aprovado com Distinção\", se a média for igual a dez\n"
   ]
  },
  {
   "cell_type": "code",
   "execution_count": 21,
   "id": "24505c20-8abd-4645-b5b6-97e01499b0d3",
   "metadata": {},
   "outputs": [
    {
     "name": "stdin",
     "output_type": "stream",
     "text": [
      "Digite aqui a nota 1:  5\n"
     ]
    },
    {
     "name": "stdout",
     "output_type": "stream",
     "text": [
      "Nota válida, agora insira a nota2:\n"
     ]
    },
    {
     "name": "stdin",
     "output_type": "stream",
     "text": [
      "Digite aqui a nota 2:  8\n"
     ]
    },
    {
     "name": "stdout",
     "output_type": "stream",
     "text": [
      "Nota válida\n",
      "Parabéns, vc foi aprovado\n"
     ]
    }
   ],
   "source": [
    "nota1 = int(input(\"Digite aqui a nota 1: \"))\n",
    "if nota1 > 10 or nota1 < 0:\n",
    "    print (\"Nota inválida, digite um valor entre 0 e 10\")\n",
    "else:\n",
    "    print (\"Nota válida, agora insira a nota2:\")\n",
    "\n",
    "nota2 = int(input(\"Digite aqui a nota 2: \"))\n",
    "if nota2 > 10 or nota2 < 0:\n",
    "    print(\"Nota inválida, digite um valor entre 0 e 10\")\n",
    "else:\n",
    "    print (\"Nota válida\")\n",
    "\n",
    "if nota1 + nota2 / 2 > 7:\n",
    "    print(\"Parabéns, vc foi aprovado\")\n",
    "elif nota1 + nota2 / 2  < 7:\n",
    "    print (\"Você foi reprovado, estude mais um pouco.\")\n",
    "elif nota1 + nota2 / 2  == 10:\n",
    "    print(\"Parabéns, você foi aprovado com distinção, já pode até abrir uma cerveja pra comemorar!\")\n",
    "else:\n",
    "    print(\"Verifique se o número inserido está correto.\")"
   ]
  },
  {
   "cell_type": "markdown",
   "id": "a99eb186-0924-40c3-a2fc-b753a9e6a574",
   "metadata": {},
   "source": [
    "5. Faça um programa que pergunte o preço de três produtos e informe qual produto você deve comprar, sabendo que a decisão é sempre pelo mais barato."
   ]
  },
  {
   "cell_type": "code",
   "execution_count": 26,
   "id": "994fd8f3-f41d-4090-a4b3-eca275c25b8d",
   "metadata": {},
   "outputs": [
    {
     "name": "stdin",
     "output_type": "stream",
     "text": [
      "Digite o nome do produto 1:  oleo\n",
      "Qual o preço do oleo?  10\n",
      "Digite o nome do produto 2:  cebola\n",
      "Qual o preço do cebola?  11\n",
      "Digite o nome do produto 3:  macarrao\n",
      "Qual o preço do macarrao?  15\n"
     ]
    },
    {
     "name": "stdout",
     "output_type": "stream",
     "text": [
      "O produto mais barato é 'oleo' e custa R$ 10.00\n"
     ]
    }
   ],
   "source": [
    "nome1 = input(\"Digite o nome do produto 1: \")\n",
    "preco1 = float(input(f\"Qual o preço do {nome1}? \"))\n",
    "\n",
    "nome2 = input(\"Digite o nome do produto 2: \")\n",
    "preco2 = float(input(f\"Qual o preço do {nome2}? \"))\n",
    "\n",
    "nome3 = input(\"Digite o nome do produto 3: \")\n",
    "preco3 = float(input(f\"Qual o preço do {nome3}? \"))\n",
    "\n",
    "if preco1 <= preco2 and preco1 <= preco3:\n",
    "    print(f\"O produto mais barato é '{nome1}' e custa {preco1:.2f}\")\n",
    "elif preco2 <= preco1 and preco2 <= preco3:\n",
    "    print(f\"O produto mais barato é '{nome2}' e custa {preco2:.2f}\")\n",
    "else:\n",
    "    print(f\"O produto mais barato é '{nome3}' e custa {preco3:.2f}\")\n",
    "    "
   ]
  },
  {
   "cell_type": "markdown",
   "id": "46ceb6f6-799c-4403-8720-410bf49d6884",
   "metadata": {},
   "source": [
    "6. Faça um Programa que leia três números e mostre-os em ordem decrescente."
   ]
  },
  {
   "cell_type": "code",
   "execution_count": 27,
   "id": "97d654cb-7b8c-4f13-9ff9-ecea660d97ee",
   "metadata": {},
   "outputs": [
    {
     "name": "stdin",
     "output_type": "stream",
     "text": [
      "Digite o primeiro número:  10\n",
      "Digite o segundo número:  11\n",
      "Digite o terceiro número:  11.5\n"
     ]
    },
    {
     "name": "stdout",
     "output_type": "stream",
     "text": [
      "11.5 11.0 10.0\n"
     ]
    }
   ],
   "source": [
    "\n",
    "num1 = float(input(\"Digite o primeiro número: \"))\n",
    "num2 = float(input(\"Digite o segundo número: \"))\n",
    "num3 = float(input(\"Digite o terceiro número: \"))\n",
    "\n",
    "if num1 >= num2 and num1 >= num3:\n",
    "    if num2 >= num3:\n",
    "        print(num1, num2, num3)\n",
    "    else:\n",
    "        print(num1, num3, num2)\n",
    "elif num2 >= num1 and num2 >= num3:\n",
    "    if num1 >= num3:\n",
    "        print(num2, num1, num3)\n",
    "    else:\n",
    "        print(num2, num3, num1)\n",
    "else:  \n",
    "    if num1 >= num2:\n",
    "        print(num3, num1, num2)\n",
    "    else:\n",
    "        print(num3, num2, num1)\n"
   ]
  },
  {
   "cell_type": "markdown",
   "id": "c2bdf5d9-920f-4713-be9e-b8bd616e3589",
   "metadata": {},
   "source": [
    "7. Faça um Programa que pergunte em que turno você estuda. Peça para digitar M-matutino ou V-Vespertino ou N- Noturno.\n",
    "Imprima a mensagem \"Bom Dia!\", \"Boa Tarde!\" ou \"Boa Noite!\" ou \"Valor Inválido!\", conforme o caso."
   ]
  },
  {
   "cell_type": "code",
   "execution_count": 29,
   "id": "17dc9dc1-0cd5-4094-83a5-3cbe09fb8194",
   "metadata": {},
   "outputs": [
    {
     "name": "stdin",
     "output_type": "stream",
     "text": [
      "Em que turno você estuda? (M - Matutino, V - Vespertino, N - Noturno):  m\n"
     ]
    },
    {
     "name": "stdout",
     "output_type": "stream",
     "text": [
      "Bom Dia!\n"
     ]
    }
   ],
   "source": [
    "turno = input(\"Em que turno você estuda? (M - Matutino, V - Vespertino, N - Noturno): \")\n",
    "\n",
    "turno = turno.upper()\n",
    "\n",
    "if turno == \"M\":\n",
    "    print(\"Bom Dia!\")\n",
    "elif turno == \"V\":\n",
    "    print(\"Boa Tarde!\")\n",
    "elif turno == \"N\":\n",
    "    print(\"Boa Noite!\")\n",
    "else:\n",
    "    print(\"Valor Inválido!\")\n"
   ]
  },
  {
   "cell_type": "markdown",
   "id": "fd22380e-eba1-4526-b484-dfd20c1c05a2",
   "metadata": {},
   "source": [
    "8. As Organizações Tabajara resolveram dar um aumento de salário aos seus colaboradores e lhe contraram para\n",
    "desenvolver o programa que calculará os reajustes.\n",
    "a. Faça um programa que recebe o salário de um colaborador e o reajuste segundo o seguinte critério, baseado no\n",
    "salário atual:\n",
    "b. salários até R$ 280,00 (incluindo) : aumento de 20%\n",
    "c. salários entre R$ 280,00 e R$ 700,00 : aumento de 15%\n",
    "d. salários entre R$ 700,00 e R$ 1500,00 : aumento de 10%\n",
    "e. salários de R$ 1500,00 em diante : aumento de 5% Após o aumento ser realizado, informe na tela:\n",
    "f. o salário antes do reajuste;\n",
    "g. o percentual de aumento aplicado;\n",
    "h. o valor do aumento;\n",
    "i. o novo salário, após o aumento."
   ]
  },
  {
   "cell_type": "code",
   "execution_count": 31,
   "id": "f0e0d41c-0606-4b56-9198-bea4a1216778",
   "metadata": {},
   "outputs": [
    {
     "name": "stdin",
     "output_type": "stream",
     "text": [
      "Digite o salário atual do colaborador: R$  10518\n"
     ]
    },
    {
     "name": "stdout",
     "output_type": "stream",
     "text": [
      "--- Reajuste Salarial ---\n",
      "Salário antes do reajuste: R$ 10518.00\n",
      "Percentual de aumento aplicado: 5%\n",
      "Valor do aumento: R$ 525.90\n",
      "Novo salário após o aumento: R$ 11043.90\n"
     ]
    }
   ],
   "source": [
    "# Entrada do salário\n",
    "salario = float(input(\"Digite o salário atual do colaborador: R$ \"))\n",
    "\n",
    "# Verifica o percentual de aumento\n",
    "if salario <= 280:\n",
    "    percentual = 20\n",
    "elif salario <= 700:\n",
    "    percentual = 15\n",
    "elif salario <= 1500:\n",
    "    percentual = 10\n",
    "else:\n",
    "    percentual = 5\n",
    "\n",
    "# Calcula o valor do aumento e o novo salário\n",
    "aumento = salario * percentual / 100\n",
    "novo_salario = salario + aumento\n",
    "\n",
    "# Exibe as informações com f-strings\n",
    "print(\"--- Reajuste Salarial ---\")\n",
    "print(f\"Salário antes do reajuste: R$ {salario:.2f}\")\n",
    "print(f\"Percentual de aumento aplicado: {percentual}%\")\n",
    "print(f\"Valor do aumento: R$ {aumento:.2f}\")\n",
    "print(f\"Novo salário após o aumento: R$ {novo_salario:.2f}\")\n"
   ]
  },
  {
   "cell_type": "markdown",
   "id": "419e373d-c92e-43c5-96e4-942bbeff1508",
   "metadata": {},
   "source": [
    "9. Faça um programa para o cálculo de uma folha de pagamento, sabendo que os descontos são do Imposto de Renda, que\n",
    "depende do salário bruto (conforme tabela abaixo) e 3% para o Sindicato e que o FGTS corresponde a 11% do Salário\n",
    "Bruto, mas não é descontado (é a empresa que deposita). O Salário Líquido corresponde ao Salário Bruto menos os\n",
    "descontos. O programa deverá pedir ao usuário o valor da sua hora e a quantidade de horas trabalhadas no mês.\n",
    "a. Desconto do IR:\n",
    "b. Salário Bruto até 900 (inclusive) - isento\n",
    "c. Salário Bruto até 1500 (inclusive) - desconto de 5%\n",
    "d. Salário Bruto até 2500 (inclusive) - desconto de 10%\n",
    "e. Salário Bruto acima de 2500 - desconto de 20% Imprima na tela as informações, dispostas conforme o exemplo\n",
    "abaixo. No exemplo o valor da hora é 5 e a quantidade de hora é 220.\n",
    "f. Salário Bruto: (5 * 220) : R$ 1100,00\n",
    "g. (-) IR (5%) : R$ 55,00\n",
    "h. (-) INSS ( 10%) : R$ 110,00\n",
    "i. FGTS (11%) : R$ 121,00\n",
    "j. Total de descontos : R$ 165,00\n",
    " Salário Liquido : R$ 935,00"
   ]
  },
  {
   "cell_type": "code",
   "execution_count": 32,
   "id": "5ae2b0eb-86ac-4eb5-a4df-48d9e23b4f33",
   "metadata": {},
   "outputs": [
    {
     "name": "stdin",
     "output_type": "stream",
     "text": [
      "Digite o valor da sua hora de trabalho: R$  150\n",
      "Digite a quantidade de horas trabalhadas no mês:  200\n"
     ]
    },
    {
     "name": "stdout",
     "output_type": "stream",
     "text": [
      "\n",
      "--- Folha de Pagamento ---\n",
      "Salário Bruto: (150.00 * 200.0) : R$ 30000.00\n",
      "(-) IR (20%) : R$ 6000.00\n",
      "(-) INSS (10%) : R$ 3000.00\n",
      "FGTS (11%) : R$ 3300.00\n",
      "Total de descontos : R$ 9000.00\n",
      "Salário Líquido : R$ 21000.00\n"
     ]
    }
   ],
   "source": [
    "## valor_hora = float(input(\"Digite o valor da sua hora de trabalho: R$ \"))\n",
    "horas_trabalhadas = float(input(\"Digite a quantidade de horas trabalhadas no mês: \"))\n",
    "\n",
    "salario_bruto = valor_hora * horas_trabalhadas\n",
    "\n",
    "if salario_bruto <= 900:\n",
    "    ir_percentual = 0\n",
    "elif salario_bruto <= 1500:\n",
    "    ir_percentual = 5\n",
    "elif salario_bruto <= 2500:\n",
    "    ir_percentual = 10\n",
    "else:\n",
    "    ir_percentual = 20\n",
    "\n",
    "ir = salario_bruto * ir_percentual / 100\n",
    "inss = salario_bruto * 10 / 100\n",
    "fgts = salario_bruto * 11 / 100 \n",
    "sindicato = salario_bruto * 3 / 100 \n",
    "\n",
    "total_descontos = ir + inss \n",
    "salario_liquido = salario_bruto - total_descontos\n",
    "\n",
    "print(\"\\n--- Folha de Pagamento ---\")\n",
    "print(f\"Salário Bruto: ({valor_hora:.2f} * {horas_trabalhadas}) : R$ {salario_bruto:.2f}\")\n",
    "print(f\"(-) IR ({ir_percentual}%) : R$ {ir:.2f}\")\n",
    "print(f\"(-) INSS (10%) : R$ {inss:.2f}\")\n",
    "print(f\"FGTS (11%) : R$ {fgts:.2f}\")\n",
    "print(f\"Total de descontos : R$ {total_descontos:.2f}\")\n",
    "print(f\"Salário Líquido : R$ {salario_liquido:.2f}\")\n"
   ]
  },
  {
   "cell_type": "markdown",
   "id": "8e9dfb04-0179-4d75-88ae-72207058591b",
   "metadata": {},
   "source": [
    "10. Faça um programa que lê as duas notas parciais obtidas por um aluno numa disciplina ao longo de um semestre, e calcule\n",
    "a sua média. A atribuição de conceitos obedece à tabela abaixo:\n",
    "a. Média de Aproveitamento Conceito\n",
    "b. Entre 9.0 e 10.0 A\n",
    "c. Entre 7.5 e 9.0 B\n",
    "d. Entre 6.0 e 7.5 C\n",
    "e. Entre 4.0 e 6.0 D\n",
    "f. Entre 4.0 e zero E"
   ]
  },
  {
   "cell_type": "code",
   "execution_count": 33,
   "id": "241c5b54-8bca-4963-997c-b125563d4b5c",
   "metadata": {},
   "outputs": [
    {
     "name": "stdin",
     "output_type": "stream",
     "text": [
      "Digite a primeira nota:  2\n",
      "Digite a segunda nota:  5\n"
     ]
    },
    {
     "name": "stdout",
     "output_type": "stream",
     "text": [
      "Média: 3.50\n",
      "Conceito: E\n"
     ]
    }
   ],
   "source": [
    "\n",
    "nota1 = float(input(\"Digite a primeira nota: \"))\n",
    "nota2 = float(input(\"Digite a segunda nota: \"))\n",
    "\n",
    "media = (nota1 + nota2) / 2\n",
    "\n",
    "if 9.0 <= media <= 10.0:\n",
    "    conceito = \"A\"\n",
    "elif 7.5 <= media < 9.0:\n",
    "    conceito = \"B\"\n",
    "elif 6.0 <= media < 7.5:\n",
    "    conceito = \"C\"\n",
    "elif 4.0 <= media < 6.0:\n",
    "    conceito = \"D\"\n",
    "elif 0 <= media < 4.0:\n",
    "    conceito = \"E\"\n",
    "else:\n",
    "    conceito = \"Nota inválida\"\n",
    "\n",
    "print(f\"Média: {media:.2f}\")\n",
    "print(f\"Conceito: {conceito}\")\n"
   ]
  },
  {
   "cell_type": "code",
   "execution_count": null,
   "id": "a6d2dcad-9398-4bd6-b111-55937cde9a94",
   "metadata": {},
   "outputs": [],
   "source": []
  },
  {
   "cell_type": "code",
   "execution_count": null,
   "id": "d6dcaab8-439e-4f55-9fd6-7c61c45164db",
   "metadata": {},
   "outputs": [],
   "source": []
  },
  {
   "cell_type": "code",
   "execution_count": null,
   "id": "4c10940d-afa1-4421-9667-974abac643b3",
   "metadata": {},
   "outputs": [],
   "source": []
  },
  {
   "cell_type": "code",
   "execution_count": null,
   "id": "ab49c2e7-1b7b-4cec-b3ca-d96321266961",
   "metadata": {},
   "outputs": [],
   "source": []
  }
 ],
 "metadata": {
  "kernelspec": {
   "display_name": "Python 3 (ipykernel)",
   "language": "python",
   "name": "python3"
  },
  "language_info": {
   "codemirror_mode": {
    "name": "ipython",
    "version": 3
   },
   "file_extension": ".py",
   "mimetype": "text/x-python",
   "name": "python",
   "nbconvert_exporter": "python",
   "pygments_lexer": "ipython3",
   "version": "3.12.7"
  }
 },
 "nbformat": 4,
 "nbformat_minor": 5
}
