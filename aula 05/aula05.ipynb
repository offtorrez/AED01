{
 "cells": [
  {
   "cell_type": "markdown",
   "id": "578a83bc-5b30-4aa1-a041-74899bc39fee",
   "metadata": {},
   "source": [
    "# TIPO INTEIRO"
   ]
  },
  {
   "cell_type": "code",
   "execution_count": 10,
   "id": "ddec5039-1618-4f69-9c8e-437ac40a07cb",
   "metadata": {},
   "outputs": [
    {
     "data": {
      "text/plain": [
       "10"
      ]
     },
     "execution_count": 10,
     "metadata": {},
     "output_type": "execute_result"
    }
   ],
   "source": [
    "10\n"
   ]
  },
  {
   "cell_type": "code",
   "execution_count": 12,
   "id": "9d21c31a-c557-4e9e-8b76-2a8429509ede",
   "metadata": {},
   "outputs": [],
   "source": [
    "num = 10"
   ]
  },
  {
   "cell_type": "code",
   "execution_count": 14,
   "id": "09dc32b7-621c-4ff5-a8be-b0a620f7e6fd",
   "metadata": {},
   "outputs": [
    {
     "data": {
      "text/plain": [
       "10"
      ]
     },
     "execution_count": 14,
     "metadata": {},
     "output_type": "execute_result"
    }
   ],
   "source": [
    "num"
   ]
  },
  {
   "cell_type": "code",
   "execution_count": 16,
   "id": "12d9c0bc-31f1-4b5b-856f-b41bb7f7a1ad",
   "metadata": {},
   "outputs": [
    {
     "data": {
      "text/plain": [
       "int"
      ]
     },
     "execution_count": 16,
     "metadata": {},
     "output_type": "execute_result"
    }
   ],
   "source": [
    "type(num)"
   ]
  },
  {
   "cell_type": "code",
   "execution_count": 18,
   "id": "391a6788-f79a-4402-8423-c596ce2c7cc2",
   "metadata": {},
   "outputs": [
    {
     "data": {
      "text/plain": [
       "30"
      ]
     },
     "execution_count": 18,
     "metadata": {},
     "output_type": "execute_result"
    }
   ],
   "source": [
    "10+20"
   ]
  },
  {
   "cell_type": "code",
   "execution_count": 20,
   "id": "139c4cf5-63d8-4836-aabd-f5dc69a4192a",
   "metadata": {},
   "outputs": [
    {
     "data": {
      "text/plain": [
       "3.5"
      ]
     },
     "execution_count": 20,
     "metadata": {},
     "output_type": "execute_result"
    }
   ],
   "source": [
    "7/2"
   ]
  },
  {
   "cell_type": "code",
   "execution_count": 22,
   "id": "cdc64e71-59aa-4ab7-bb14-ba5d2f8ad8fe",
   "metadata": {},
   "outputs": [],
   "source": [
    "num = 20"
   ]
  },
  {
   "cell_type": "code",
   "execution_count": 24,
   "id": "1a2724d3-cf68-4b8c-b084-dd7f2b1a5818",
   "metadata": {},
   "outputs": [
    {
     "data": {
      "text/plain": [
       "20"
      ]
     },
     "execution_count": 24,
     "metadata": {},
     "output_type": "execute_result"
    }
   ],
   "source": [
    "num"
   ]
  },
  {
   "cell_type": "code",
   "execution_count": 26,
   "id": "75306bf1-d4fe-4feb-a3d7-520074de6ab4",
   "metadata": {},
   "outputs": [],
   "source": [
    "x = 5"
   ]
  },
  {
   "cell_type": "code",
   "execution_count": 28,
   "id": "76a49cd0-7019-494d-bff6-7f78641baf5c",
   "metadata": {},
   "outputs": [
    {
     "data": {
      "text/plain": [
       "25"
      ]
     },
     "execution_count": 28,
     "metadata": {},
     "output_type": "execute_result"
    }
   ],
   "source": [
    "num + x"
   ]
  },
  {
   "cell_type": "code",
   "execution_count": 30,
   "id": "59a6403d-55c5-4cab-b637-be823230557f",
   "metadata": {},
   "outputs": [],
   "source": [
    "soma = num + x"
   ]
  },
  {
   "cell_type": "code",
   "execution_count": 32,
   "id": "8cde6033-5f28-4785-82d7-0a3a683e7172",
   "metadata": {},
   "outputs": [
    {
     "data": {
      "text/plain": [
       "25"
      ]
     },
     "execution_count": 32,
     "metadata": {},
     "output_type": "execute_result"
    }
   ],
   "source": [
    "soma"
   ]
  },
  {
   "cell_type": "code",
   "execution_count": 36,
   "id": "660de22a-f8fe-4491-8c8f-bb1f2a6e7767",
   "metadata": {},
   "outputs": [],
   "source": [
    "mult = num * x"
   ]
  },
  {
   "cell_type": "code",
   "execution_count": 38,
   "id": "1aab6ec4-d3e5-4403-b92c-41e134935a3a",
   "metadata": {},
   "outputs": [
    {
     "data": {
      "text/plain": [
       "100"
      ]
     },
     "execution_count": 38,
     "metadata": {},
     "output_type": "execute_result"
    }
   ],
   "source": [
    "mult"
   ]
  },
  {
   "cell_type": "code",
   "execution_count": 40,
   "id": "4c482a45-c658-4a1c-82c8-be367ee714b9",
   "metadata": {},
   "outputs": [
    {
     "data": {
      "text/plain": [
       "107150860718626732094842504906000181056140481170553360744375038837035105112493612249319837881569585812759467291755314682518714528569231404359845775746985748039345677748242309854210746050623711418779541821530464749835819412673987675591655439460770629145711964776865421676604298316526243868372056680693760000000000000000000000000000000000000000000000000000000000000000000000000000000000000000000000000000000000000000000000000000000000000000000000000000000000000000000000000000000000000000000000000000000000000000000000000000000000000000000000000000000000000000000000000000000000000000000000000000000000000000000000000000000000000000000000000000000000000000000000000000000000000000000000000000000000000000000000000000000000000000000000000000000000000000000000000000000000000000000000000000000000000000000000000000000000000000000000000000000000000000000000000000000000000000000000000000000000000000000000000000000000000000000000000000000000000000000000000000000000000000000000000000000000000000000000000000000000000000000000000000000000000000000000000000000000000000000000000000000000000000000000000000000000000000000000000000000000000000000000000000000000000000000000000000000000000000000000000000000000000000000000000000000000000000000000000000000000000000000000000000000000000000000000000000000000000000"
      ]
     },
     "execution_count": 40,
     "metadata": {},
     "output_type": "execute_result"
    }
   ],
   "source": [
    "20 ** 1000"
   ]
  },
  {
   "cell_type": "code",
   "execution_count": 42,
   "id": "7599cc27-9585-485b-b05d-6e8d9310b6b6",
   "metadata": {},
   "outputs": [],
   "source": [
    "x = num - 30"
   ]
  },
  {
   "cell_type": "code",
   "execution_count": 44,
   "id": "faccec84-1774-46b6-b0da-a11c6a2e33e8",
   "metadata": {},
   "outputs": [
    {
     "data": {
      "text/plain": [
       "-10"
      ]
     },
     "execution_count": 44,
     "metadata": {},
     "output_type": "execute_result"
    }
   ],
   "source": [
    "x"
   ]
  },
  {
   "cell_type": "code",
   "execution_count": 46,
   "id": "5f026d22-bdfe-4724-8e6f-eb8abb9ff646",
   "metadata": {},
   "outputs": [
    {
     "data": {
      "text/plain": [
       "3"
      ]
     },
     "execution_count": 46,
     "metadata": {},
     "output_type": "execute_result"
    }
   ],
   "source": [
    "7//2"
   ]
  },
  {
   "cell_type": "code",
   "execution_count": 48,
   "id": "34d06abd-880c-4bb5-9f5f-a637d56fe180",
   "metadata": {},
   "outputs": [
    {
     "data": {
      "text/plain": [
       "1"
      ]
     },
     "execution_count": 48,
     "metadata": {},
     "output_type": "execute_result"
    }
   ],
   "source": [
    "7%2"
   ]
  },
  {
   "cell_type": "code",
   "execution_count": 50,
   "id": "effae935-2f15-4df6-8f37-d154d1cd39dc",
   "metadata": {},
   "outputs": [],
   "source": [
    "num = x + 3"
   ]
  },
  {
   "cell_type": "code",
   "execution_count": 52,
   "id": "0b6a7471-cf32-4de0-b7c3-c38d22121df9",
   "metadata": {},
   "outputs": [
    {
     "data": {
      "text/plain": [
       "-7"
      ]
     },
     "execution_count": 52,
     "metadata": {},
     "output_type": "execute_result"
    }
   ],
   "source": [
    "num"
   ]
  },
  {
   "cell_type": "code",
   "execution_count": 54,
   "id": "327b143a-2b8d-406f-b990-246c2f5f9dde",
   "metadata": {},
   "outputs": [],
   "source": [
    "num = num + 20"
   ]
  },
  {
   "cell_type": "code",
   "execution_count": 56,
   "id": "9bf7c558-244d-4e0c-8f8b-a5f77020c13f",
   "metadata": {},
   "outputs": [
    {
     "data": {
      "text/plain": [
       "13"
      ]
     },
     "execution_count": 56,
     "metadata": {},
     "output_type": "execute_result"
    }
   ],
   "source": [
    "num"
   ]
  },
  {
   "cell_type": "code",
   "execution_count": 58,
   "id": "09808063-905e-44ff-ba8e-01ca03d1ee31",
   "metadata": {},
   "outputs": [],
   "source": [
    "num += 20"
   ]
  },
  {
   "cell_type": "code",
   "execution_count": 60,
   "id": "d1566cb2-f59a-4914-a2f0-8fdb107564d1",
   "metadata": {},
   "outputs": [
    {
     "data": {
      "text/plain": [
       "33"
      ]
     },
     "execution_count": 60,
     "metadata": {},
     "output_type": "execute_result"
    }
   ],
   "source": [
    "num"
   ]
  },
  {
   "cell_type": "code",
   "execution_count": 62,
   "id": "42e46006-ab8b-4505-9f4e-217b54179980",
   "metadata": {},
   "outputs": [
    {
     "name": "stdout",
     "output_type": "stream",
     "text": [
      "13\n"
     ]
    }
   ],
   "source": [
    "num -= 20\n",
    "print(num)"
   ]
  },
  {
   "cell_type": "code",
   "execution_count": 64,
   "id": "bdbe0553-3a29-4f39-9f4b-5c5736ff13d0",
   "metadata": {},
   "outputs": [
    {
     "name": "stdout",
     "output_type": "stream",
     "text": [
      "26\n"
     ]
    }
   ],
   "source": [
    "num *= 2\n",
    "print(num)"
   ]
  },
  {
   "cell_type": "code",
   "execution_count": 79,
   "id": "fa8c3a95-f4c0-4d39-8f23-5169e37d1730",
   "metadata": {},
   "outputs": [
    {
     "name": "stdout",
     "output_type": "stream",
     "text": [
      "0.017094017094017092\n"
     ]
    }
   ],
   "source": [
    "num /= 13\n",
    "print(num)"
   ]
  },
  {
   "cell_type": "code",
   "execution_count": 81,
   "id": "5a341445-64b0-4145-9bbb-dbb21072c3b4",
   "metadata": {},
   "outputs": [
    {
     "data": {
      "text/plain": [
       "0.017094017094017092"
      ]
     },
     "execution_count": 81,
     "metadata": {},
     "output_type": "execute_result"
    }
   ],
   "source": [
    "num"
   ]
  },
  {
   "cell_type": "code",
   "execution_count": 83,
   "id": "4e35a85f-a363-419e-b69c-80e87ddc54a8",
   "metadata": {},
   "outputs": [],
   "source": [
    "num=13"
   ]
  },
  {
   "cell_type": "code",
   "execution_count": 85,
   "id": "6ee1831e-d70c-4c6a-8b0f-1adfaff426f7",
   "metadata": {},
   "outputs": [],
   "source": [
    "num = 26"
   ]
  },
  {
   "cell_type": "code",
   "execution_count": 87,
   "id": "aa2a4294-4910-4ad1-b015-ba873dad6d79",
   "metadata": {},
   "outputs": [
    {
     "data": {
      "text/plain": [
       "26"
      ]
     },
     "execution_count": 87,
     "metadata": {},
     "output_type": "execute_result"
    }
   ],
   "source": [
    "num"
   ]
  },
  {
   "cell_type": "code",
   "execution_count": 89,
   "id": "1dd4c929-91f4-44c2-a237-9aa26539e1e0",
   "metadata": {},
   "outputs": [],
   "source": [
    "num /= 13"
   ]
  },
  {
   "cell_type": "code",
   "execution_count": 91,
   "id": "1d255a8c-f063-42eb-a121-2fb22d76a91c",
   "metadata": {},
   "outputs": [
    {
     "data": {
      "text/plain": [
       "2.0"
      ]
     },
     "execution_count": 91,
     "metadata": {},
     "output_type": "execute_result"
    }
   ],
   "source": [
    "num"
   ]
  },
  {
   "cell_type": "code",
   "execution_count": 93,
   "id": "4bb5394a-ccf9-4772-9cdd-68c3422886d7",
   "metadata": {},
   "outputs": [
    {
     "data": {
      "text/plain": [
       "float"
      ]
     },
     "execution_count": 93,
     "metadata": {},
     "output_type": "execute_result"
    }
   ],
   "source": [
    "type(num)"
   ]
  },
  {
   "cell_type": "code",
   "execution_count": null,
   "id": "ec52b45d-3f11-4fef-9daf-f0286fccc9be",
   "metadata": {},
   "outputs": [],
   "source": []
  },
  {
   "cell_type": "markdown",
   "id": "90354dda-281b-4462-b561-453a93638e50",
   "metadata": {},
   "source": [
    "# TIPO FLOAT "
   ]
  },
  {
   "cell_type": "code",
   "execution_count": 95,
   "id": "2078ac4f-cd64-458b-8003-dc6317bba586",
   "metadata": {},
   "outputs": [
    {
     "data": {
      "text/plain": [
       "float"
      ]
     },
     "execution_count": 95,
     "metadata": {},
     "output_type": "execute_result"
    }
   ],
   "source": [
    "type(num)"
   ]
  },
  {
   "cell_type": "code",
   "execution_count": 97,
   "id": "b59dfe4d-7a17-4d57-8e8e-ff12aa39b047",
   "metadata": {},
   "outputs": [
    {
     "data": {
      "text/plain": [
       "2.0"
      ]
     },
     "execution_count": 97,
     "metadata": {},
     "output_type": "execute_result"
    }
   ],
   "source": [
    "num"
   ]
  },
  {
   "cell_type": "code",
   "execution_count": null,
   "id": "7fd7caeb-1f35-4977-9ce4-3bf7b984fc4e",
   "metadata": {},
   "outputs": [],
   "source": []
  },
  {
   "cell_type": "code",
   "execution_count": 101,
   "id": "15ba8750-8903-4299-b13f-d6b6772821e7",
   "metadata": {},
   "outputs": [
    {
     "data": {
      "text/plain": [
       "31.0"
      ]
     },
     "execution_count": 101,
     "metadata": {},
     "output_type": "execute_result"
    }
   ],
   "source": [
    "10.44 + 20.56"
   ]
  },
  {
   "cell_type": "code",
   "execution_count": 103,
   "id": "8aafc34b-2a0a-49c8-bd4b-7847bf2cbb21",
   "metadata": {},
   "outputs": [
    {
     "data": {
      "text/plain": [
       "float"
      ]
     },
     "execution_count": 103,
     "metadata": {},
     "output_type": "execute_result"
    }
   ],
   "source": [
    "type(31.0)"
   ]
  },
  {
   "cell_type": "code",
   "execution_count": 111,
   "id": "2a8faf14-e0a3-41b1-893e-ce283568ac03",
   "metadata": {},
   "outputs": [],
   "source": [
    "num *= 2.2"
   ]
  },
  {
   "cell_type": "code",
   "execution_count": 113,
   "id": "5cc80420-8876-42fb-a5c6-83b4cb962a9c",
   "metadata": {},
   "outputs": [
    {
     "data": {
      "text/plain": [
       "4.4"
      ]
     },
     "execution_count": 113,
     "metadata": {},
     "output_type": "execute_result"
    }
   ],
   "source": [
    "num"
   ]
  },
  {
   "cell_type": "code",
   "execution_count": 115,
   "id": "c89a9a6c-e00f-4b95-80f2-53fc93994df1",
   "metadata": {},
   "outputs": [
    {
     "name": "stdout",
     "output_type": "stream",
     "text": [
      "4.4\n"
     ]
    }
   ],
   "source": [
    "print(num)"
   ]
  },
  {
   "cell_type": "markdown",
   "id": "e30bd75c-a8d3-41e9-86ff-f19d654a1ddf",
   "metadata": {},
   "source": [
    "# NÚMEROS COMPLEXO ( engenharia ) "
   ]
  },
  {
   "cell_type": "code",
   "execution_count": 118,
   "id": "e5a63cbe-0972-4dbd-be39-15c523b438cf",
   "metadata": {},
   "outputs": [
    {
     "data": {
      "text/plain": [
       "5j"
      ]
     },
     "execution_count": 118,
     "metadata": {},
     "output_type": "execute_result"
    }
   ],
   "source": [
    "5j"
   ]
  },
  {
   "cell_type": "code",
   "execution_count": 120,
   "id": "e5bc10b2-fd0e-450b-81c3-1f9a745d5080",
   "metadata": {},
   "outputs": [],
   "source": [
    "y = 6 + 5j"
   ]
  },
  {
   "cell_type": "code",
   "execution_count": 122,
   "id": "e717246b-da8b-4689-88e2-80a6f3766765",
   "metadata": {},
   "outputs": [
    {
     "data": {
      "text/plain": [
       "(6+5j)"
      ]
     },
     "execution_count": 122,
     "metadata": {},
     "output_type": "execute_result"
    }
   ],
   "source": [
    "y"
   ]
  },
  {
   "cell_type": "code",
   "execution_count": 124,
   "id": "f29072cb-d83d-4ab5-a80b-7ad8608e710b",
   "metadata": {},
   "outputs": [
    {
     "data": {
      "text/plain": [
       "complex"
      ]
     },
     "execution_count": 124,
     "metadata": {},
     "output_type": "execute_result"
    }
   ],
   "source": [
    "type(y)"
   ]
  },
  {
   "cell_type": "markdown",
   "id": "4b2fd61e-6f51-40b1-9620-ec2cb0c67f0d",
   "metadata": {},
   "source": [
    "# TIPO BOLEANO (BOOL)"
   ]
  },
  {
   "cell_type": "code",
   "execution_count": 127,
   "id": "d158e3bd-bbc3-4315-bf18-724fbac3074d",
   "metadata": {},
   "outputs": [],
   "source": [
    "flag = True"
   ]
  },
  {
   "cell_type": "code",
   "execution_count": 129,
   "id": "a672b806-b338-4293-a4c3-f62f05a1fe80",
   "metadata": {},
   "outputs": [
    {
     "data": {
      "text/plain": [
       "bool"
      ]
     },
     "execution_count": 129,
     "metadata": {},
     "output_type": "execute_result"
    }
   ],
   "source": [
    "type(flag)"
   ]
  },
  {
   "cell_type": "code",
   "execution_count": 131,
   "id": "fc5e1be3-7add-4590-b625-72594a8b52eb",
   "metadata": {},
   "outputs": [
    {
     "data": {
      "text/plain": [
       "True"
      ]
     },
     "execution_count": 131,
     "metadata": {},
     "output_type": "execute_result"
    }
   ],
   "source": [
    "flag"
   ]
  },
  {
   "cell_type": "code",
   "execution_count": 133,
   "id": "de534319-d939-4b30-b30b-5062c1570b0c",
   "metadata": {},
   "outputs": [
    {
     "data": {
      "text/plain": [
       "False"
      ]
     },
     "execution_count": 133,
     "metadata": {},
     "output_type": "execute_result"
    }
   ],
   "source": [
    "not flag "
   ]
  },
  {
   "cell_type": "code",
   "execution_count": 135,
   "id": "06c0c8e5-3131-4458-8728-30acbb0c82f3",
   "metadata": {},
   "outputs": [],
   "source": [
    "x = flag and False "
   ]
  },
  {
   "cell_type": "code",
   "execution_count": 137,
   "id": "c599e6c2-4f80-44cd-91f0-e75b33f3e001",
   "metadata": {},
   "outputs": [
    {
     "data": {
      "text/plain": [
       "False"
      ]
     },
     "execution_count": 137,
     "metadata": {},
     "output_type": "execute_result"
    }
   ],
   "source": [
    "x"
   ]
  },
  {
   "cell_type": "markdown",
   "id": "d4249379-43fc-46cc-94f5-ed6a8dc2f1ea",
   "metadata": {},
   "source": [
    "# TIPO STRING"
   ]
  },
  {
   "cell_type": "code",
   "execution_count": 142,
   "id": "2ce06693-710f-4ba0-a0dd-ba93a47b1c53",
   "metadata": {},
   "outputs": [],
   "source": [
    "letra = \"a\""
   ]
  },
  {
   "cell_type": "code",
   "execution_count": null,
   "id": "a5c394dd-8474-4c2e-a697-e21cbd6e1cd5",
   "metadata": {},
   "outputs": [],
   "source": []
  },
  {
   "cell_type": "code",
   "execution_count": 144,
   "id": "e72d52d4-c03a-4d1d-a9fa-2b8c607ea513",
   "metadata": {},
   "outputs": [
    {
     "data": {
      "text/plain": [
       "str"
      ]
     },
     "execution_count": 144,
     "metadata": {},
     "output_type": "execute_result"
    }
   ],
   "source": [
    "type(letra)"
   ]
  },
  {
   "cell_type": "code",
   "execution_count": 152,
   "id": "88e7f011-7807-4768-89fc-20e8b4b04ef0",
   "metadata": {},
   "outputs": [],
   "source": [
    "frase = 'batatina quando nasce espalha a rama pelo chão'"
   ]
  },
  {
   "cell_type": "code",
   "execution_count": 154,
   "id": "0960c1ab-1c24-40fe-ae4b-25eb3163264e",
   "metadata": {},
   "outputs": [
    {
     "data": {
      "text/plain": [
       "'batatina quando nasce espalha a rama pelo chão'"
      ]
     },
     "execution_count": 154,
     "metadata": {},
     "output_type": "execute_result"
    }
   ],
   "source": [
    "frase"
   ]
  },
  {
   "cell_type": "code",
   "execution_count": 158,
   "id": "d6a90e61-07d5-48e7-8811-23e1438bbc34",
   "metadata": {},
   "outputs": [
    {
     "data": {
      "text/plain": [
       "str"
      ]
     },
     "execution_count": 158,
     "metadata": {},
     "output_type": "execute_result"
    }
   ],
   "source": [
    "type(frase)"
   ]
  },
  {
   "cell_type": "code",
   "execution_count": 160,
   "id": "d9578713-33d3-47e8-9b3f-33aa4fe7c627",
   "metadata": {},
   "outputs": [],
   "source": [
    "palavra = \"Python\""
   ]
  },
  {
   "cell_type": "code",
   "execution_count": 162,
   "id": "5acc5aa4-92c5-4ab2-9297-ec1f45795032",
   "metadata": {},
   "outputs": [
    {
     "data": {
      "text/plain": [
       "str"
      ]
     },
     "execution_count": 162,
     "metadata": {},
     "output_type": "execute_result"
    }
   ],
   "source": [
    "type(palavra)"
   ]
  },
  {
   "cell_type": "code",
   "execution_count": 164,
   "id": "1970828c-7149-4a38-99e7-85d2df92a705",
   "metadata": {},
   "outputs": [
    {
     "data": {
      "text/plain": [
       "'P'"
      ]
     },
     "execution_count": 164,
     "metadata": {},
     "output_type": "execute_result"
    }
   ],
   "source": [
    "palavra[0]"
   ]
  },
  {
   "cell_type": "markdown",
   "id": "be671f77-4099-44a3-b476-d6221b79d935",
   "metadata": {},
   "source": [
    "# Funções Imbutidas"
   ]
  },
  {
   "cell_type": "code",
   "execution_count": 167,
   "id": "d326314f-0998-48be-a4da-37e111fd3f1e",
   "metadata": {},
   "outputs": [
    {
     "data": {
      "text/plain": [
       "34"
      ]
     },
     "execution_count": 167,
     "metadata": {},
     "output_type": "execute_result"
    }
   ],
   "source": [
    "abs(-34)"
   ]
  },
  {
   "cell_type": "code",
   "execution_count": 169,
   "id": "efcc8134-b85e-4146-a8d2-9e21abe1680b",
   "metadata": {},
   "outputs": [
    {
     "data": {
      "text/plain": [
       "'_'"
      ]
     },
     "execution_count": 169,
     "metadata": {},
     "output_type": "execute_result"
    }
   ],
   "source": [
    "chr(95)"
   ]
  },
  {
   "cell_type": "code",
   "execution_count": 171,
   "id": "bef788e9-83a2-49c8-bdde-f79f0e905701",
   "metadata": {},
   "outputs": [
    {
     "data": {
      "text/plain": [
       "'A'"
      ]
     },
     "execution_count": 171,
     "metadata": {},
     "output_type": "execute_result"
    }
   ],
   "source": [
    "chr(65)"
   ]
  },
  {
   "cell_type": "code",
   "execution_count": 173,
   "id": "97c57b57-728a-45c1-a0f0-d43b53448a1a",
   "metadata": {},
   "outputs": [
    {
     "data": {
      "text/plain": [
       "122"
      ]
     },
     "execution_count": 173,
     "metadata": {},
     "output_type": "execute_result"
    }
   ],
   "source": [
    "ord('z')"
   ]
  },
  {
   "cell_type": "code",
   "execution_count": 175,
   "id": "56044422-a2b8-4fd9-93af-1882ece21330",
   "metadata": {},
   "outputs": [
    {
     "data": {
      "text/plain": [
       "str"
      ]
     },
     "execution_count": 175,
     "metadata": {},
     "output_type": "execute_result"
    }
   ],
   "source": [
    "str"
   ]
  },
  {
   "cell_type": "code",
   "execution_count": 177,
   "id": "2400c215-bd4f-4616-a0ed-71472984e8eb",
   "metadata": {},
   "outputs": [
    {
     "data": {
      "text/plain": [
       "'Python'"
      ]
     },
     "execution_count": 177,
     "metadata": {},
     "output_type": "execute_result"
    }
   ],
   "source": [
    "palavra"
   ]
  },
  {
   "cell_type": "code",
   "execution_count": 179,
   "id": "a8823ae2-0ff1-4946-80bf-638f4e40f365",
   "metadata": {},
   "outputs": [
    {
     "data": {
      "text/plain": [
       "<function str.upper()>"
      ]
     },
     "execution_count": 179,
     "metadata": {},
     "output_type": "execute_result"
    }
   ],
   "source": [
    "palavra.upper"
   ]
  },
  {
   "cell_type": "code",
   "execution_count": 181,
   "id": "4a2b399c-b191-4c2c-9139-07a286bda1ed",
   "metadata": {},
   "outputs": [
    {
     "data": {
      "text/plain": [
       "'Python'"
      ]
     },
     "execution_count": 181,
     "metadata": {},
     "output_type": "execute_result"
    }
   ],
   "source": [
    "palavra"
   ]
  },
  {
   "cell_type": "code",
   "execution_count": 183,
   "id": "2b1cd012-1e4b-4e55-a1cf-77e6e34e00c4",
   "metadata": {},
   "outputs": [
    {
     "data": {
      "text/plain": [
       "'PYTHON'"
      ]
     },
     "execution_count": 183,
     "metadata": {},
     "output_type": "execute_result"
    }
   ],
   "source": [
    "palavra.upper()"
   ]
  },
  {
   "cell_type": "code",
   "execution_count": 185,
   "id": "99873480-d8bd-40e5-8ef9-53cff53081d2",
   "metadata": {},
   "outputs": [
    {
     "data": {
      "text/plain": [
       "'batatina quando nasce espalha a rama pelo chão'"
      ]
     },
     "execution_count": 185,
     "metadata": {},
     "output_type": "execute_result"
    }
   ],
   "source": [
    "frase"
   ]
  },
  {
   "cell_type": "code",
   "execution_count": 187,
   "id": "30bca5fd-8b50-44a7-968d-abeef497950b",
   "metadata": {},
   "outputs": [
    {
     "data": {
      "text/plain": [
       "'BATATINA QUANDO NASCE ESPALHA A RAMA PELO CHÃO'"
      ]
     },
     "execution_count": 187,
     "metadata": {},
     "output_type": "execute_result"
    }
   ],
   "source": [
    "frase.upper()"
   ]
  },
  {
   "cell_type": "code",
   "execution_count": 189,
   "id": "7e5e4b17-5ae1-4890-b537-5fd0ba770c44",
   "metadata": {},
   "outputs": [
    {
     "name": "stdout",
     "output_type": "stream",
     "text": [
      "Help on built-in function ord in module builtins:\n",
      "\n",
      "ord(c, /)\n",
      "    Return the Unicode code point for a one-character string.\n",
      "\n"
     ]
    }
   ],
   "source": [
    "help(ord)"
   ]
  },
  {
   "cell_type": "code",
   "execution_count": 191,
   "id": "86afe492-aa86-433d-99c0-6dcd62c39937",
   "metadata": {},
   "outputs": [
    {
     "name": "stdout",
     "output_type": "stream",
     "text": [
      "TETA DE PASTEL\n"
     ]
    }
   ],
   "source": [
    "print(\"TETA DE PASTEL\")"
   ]
  },
  {
   "cell_type": "code",
   "execution_count": 193,
   "id": "85fcca31-c1f5-483a-aa55-479baaf53eb8",
   "metadata": {},
   "outputs": [
    {
     "name": "stdout",
     "output_type": "stream",
     "text": [
      "      oi       \n"
     ]
    }
   ],
   "source": [
    "print(\"      oi       \")"
   ]
  },
  {
   "cell_type": "code",
   "execution_count": 197,
   "id": "a222a3d4-6f56-4c31-a1e9-e8cc9f0cdd0e",
   "metadata": {},
   "outputs": [],
   "source": [
    "nome=\"bolas\""
   ]
  },
  {
   "cell_type": "code",
   "execution_count": null,
   "id": "11b1f7b9-0aa9-4825-a1e9-8076dc3857a7",
   "metadata": {},
   "outputs": [],
   "source": [
    "idade=\"6969\""
   ]
  }
 ],
 "metadata": {
  "kernelspec": {
   "display_name": "Python [conda env:base] *",
   "language": "python",
   "name": "conda-base-py"
  },
  "language_info": {
   "codemirror_mode": {
    "name": "ipython",
    "version": 3
   },
   "file_extension": ".py",
   "mimetype": "text/x-python",
   "name": "python",
   "nbconvert_exporter": "python",
   "pygments_lexer": "ipython3",
   "version": "3.12.7"
  }
 },
 "nbformat": 4,
 "nbformat_minor": 5
}
